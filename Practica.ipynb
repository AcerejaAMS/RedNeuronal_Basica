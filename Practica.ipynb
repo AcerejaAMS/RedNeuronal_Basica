{
 "cells": [
  {
   "cell_type": "code",
   "execution_count": 44,
   "metadata": {},
   "outputs": [],
   "source": [
    "from sklearn.model_selection import train_test_split\n",
    "import matplotlib.pyplot as plt\n",
    "import numpy as np\n",
    "import cv2"
   ]
  },
  {
   "cell_type": "markdown",
   "metadata": {},
   "source": [
    "### Carga de Datos"
   ]
  },
  {
   "cell_type": "markdown",
   "metadata": {},
   "source": [
    "Nota: A partir del c13 al c18 son duplicados"
   ]
  },
  {
   "cell_type": "code",
   "execution_count": 45,
   "metadata": {},
   "outputs": [
    {
     "name": "stdout",
     "output_type": "stream",
     "text": [
      "Tamaño de conjuntoImgs: (180, 64, 32, 3)\n",
      "Tamaño de conjuntoGris: (180, 64, 32)\n",
      "Tamaño de conjuntoBin: (180, 64, 32)\n",
      "Tamaño de y: (180, 10)\n"
     ]
    }
   ],
   "source": [
    "\n",
    "conjuntoImgs = []\n",
    "conjuntoGris = []\n",
    "conjuntoBin = []\n",
    "y = []\n",
    "\n",
    "for i in range(1, 19):\n",
    "    for j in range(10):\n",
    "        ruta = f'Prueba/C{i}/N{j}.JPG'\n",
    "        temp = cv2.imread(ruta)\n",
    "\n",
    "        temp = cv2.resize(temp, (32, 64))\n",
    "        conjuntoImgs.append(temp)\n",
    "        \n",
    "        temp_gris = cv2.cvtColor(temp, cv2.COLOR_BGR2GRAY)\n",
    "        conjuntoGris.append(temp_gris)\n",
    "        \n",
    "        _, temp_bin = cv2.threshold(temp_gris, 127, 1, cv2.THRESH_BINARY)\n",
    "        conjuntoBin.append(temp_bin)\n",
    "    \n",
    "        match(j):\n",
    "            case 0: y.append([1,0,0,0,0,0,0,0,0,0])\n",
    "            case 1: y.append([0,1,0,0,0,0,0,0,0,0])\n",
    "            case 2: y.append([0,0,1,0,0,0,0,0,0,0])\n",
    "            case 3: y.append([0,0,0,1,0,0,0,0,0,0])\n",
    "            case 4: y.append([0,0,0,0,1,0,0,0,0,0])\n",
    "            case 5: y.append([0,0,0,0,0,1,0,0,0,0])\n",
    "            case 6: y.append([0,0,0,0,0,0,1,0,0,0])\n",
    "            case 7: y.append([0,0,0,0,0,0,0,1,0,0])\n",
    "            case 8: y.append([0,0,0,0,0,0,0,0,1,0])\n",
    "            case 9: y.append([0,0,0,0,0,0,0,0,0,1])\n",
    "\n",
    "# Convertir las listas en arrays de numpy\n",
    "conjuntoImgs = np.array(conjuntoImgs)\n",
    "conjuntoGris = np.array(conjuntoGris)\n",
    "conjuntoBin = np.array(conjuntoBin)\n",
    "y = np.array(y)\n",
    "# conjuntoImgs = np.array(conjuntoImgs).reshape(1,1105920)\n",
    "# conjuntoGris = np.array(conjuntoGris).reshape(1,368640)\n",
    "# conjuntoBin = np.array(conjuntoBin).reshape(1,368640)\n",
    "\n",
    "\n",
    "# Imprimir las formas de los arrays para confirmar\n",
    "print(\"Tamaño de conjuntoImgs:\", conjuntoImgs.shape)\n",
    "print(\"Tamaño de conjuntoGris:\", conjuntoGris.shape)\n",
    "print(\"Tamaño de conjuntoBin:\", conjuntoBin.shape)\n",
    "print(\"Tamaño de y:\", y.shape)\n",
    "\n"
   ]
  },
  {
   "cell_type": "markdown",
   "metadata": {},
   "source": [
    "### Declaración de funciones"
   ]
  },
  {
   "cell_type": "code",
   "execution_count": null,
   "metadata": {},
   "outputs": [],
   "source": [
    "import numpy as np\n",
    "import matplotlib.pyplot as plt\n",
    "\n",
    "# Función de activación\n",
    "def sigmoid(x):\n",
    "    return 1 / (1 + np.exp(-x))\n",
    "\n",
    "# Feedforward\n",
    "def f_forward(x, w1, w2):\n",
    "    # Capa oculta\n",
    "    z1 = x.dot(w1)  # Entrada\n",
    "    a1 = sigmoid(z1)  # Activación de la capa oculta\n",
    "    \n",
    "    # Capa de salida\n",
    "    z2 = a1.dot(w2)  # Entrada\n",
    "    a2 = sigmoid(z2)  # Salida\n",
    "    return a2\n",
    "\n",
    "# Generar pesos aleatorios\n",
    "def generate_wt(x, y):\n",
    "    return np.random.randn(x, y)\n",
    "\n",
    "# Cálculo de la pérdida\n",
    "def loss(out, Y):\n",
    "    s = np.square(out - Y)\n",
    "    return np.sum(s) / len(Y)\n",
    "\n",
    "# Backpropagation\n",
    "def back_prop(x, Y, w1, w2, alpha):\n",
    "    # Capa oculta\n",
    "    z1 = x.dot(w1)\n",
    "    a1 = sigmoid(z1)\n",
    "    \n",
    "    # Capa de salida\n",
    "    z2 = a1.dot(w2)\n",
    "    a2 = sigmoid(z2)\n",
    "    \n",
    "    # Gradiente de salida\n",
    "    d2 = a2 - Y\n",
    "    d1 = np.multiply((w2.dot(d2.T)).T, np.multiply(a1, 1 - a1))\n",
    "    \n",
    "    # Ajustes de pesos\n",
    "    w1_adj = x.T.dot(d1)\n",
    "    w2_adj = a1.T.dot(d2)\n",
    "    \n",
    "    w1 -= alpha * w1_adj\n",
    "    w2 -= alpha * w2_adj\n",
    "    \n",
    "    return w1, w2\n",
    "\n",
    "def train(x, Y, w1, w2, alpha=0.01, epoch=10):\n",
    "    acc = []\n",
    "    losses = []\n",
    "    for j in range(epoch):\n",
    "        epoch_losses = []\n",
    "        for i in range(len(x)):\n",
    "            out = f_forward(x[i], w1, w2)\n",
    "            epoch_losses.append(loss(out, Y[i]))\n",
    "            w1, w2 = back_prop(x[i], Y[i], w1, w2, alpha)\n",
    "        epoch_loss = sum(epoch_losses) / len(x)\n",
    "        accuracy = (1 - epoch_loss) * 100\n",
    "        print(f\"Epoch {j + 1} ======== Loss: {epoch_loss:.4f} ======== Accuracy: {accuracy:.2f}%\")\n",
    "        acc.append(accuracy)\n",
    "        losses.append(epoch_loss)\n",
    "    return acc, losses, w1, w2\n",
    "\n",
    "# Predicción\n",
    "def predict(x, w1, w2):\n",
    "    Out = f_forward(x, w1, w2)\n",
    "    k = np.argmax(Out)  # Índice del valor máximo\n",
    "    classes = [\"0\", \"1\", \"2\", \"3\", \"4\", \"5\", \"6\", \"7\", \"8\", \"9\"]\n",
    "    print(f\"Image is of letter {classes[k]}.\")\n",
    "    plt.imshow(x.reshape(64, 32), cmap='gray')\n",
    "    plt.show()\n"
   ]
  },
  {
   "cell_type": "markdown",
   "metadata": {},
   "source": [
    "### Partición de los datos"
   ]
  },
  {
   "cell_type": "code",
   "execution_count": 47,
   "metadata": {},
   "outputs": [],
   "source": [
    "X_train_RGB, X_test_RGB, Y_train_RGB, Y_test_RGB = train_test_split(conjuntoImgs, y, test_size = 0.2)\n",
    "X_train_Gris, X_test_Gris, Y_train_Gris, Y_test_Gris = train_test_split(conjuntoGris, y, test_size = 0.2)\n",
    "X_train_Bin, X_test_Bin, Y_train_Bin, Y_test_Bin = train_test_split(conjuntoBin, y, test_size = 0.2)\n",
    "\n",
    "X_train_RGB = X_train_RGB.reshape(144, 1, -1)  \n",
    "X_test_RGB = X_test_RGB.reshape(36, 1, -1)  \n",
    "Y_train_RGB = Y_train_RGB.reshape(144, 1, -1)\n",
    "Y_test_RGB = Y_test_RGB.reshape(36, 1, -1)\n",
    "\n",
    "X_train_Gris = X_train_Gris.reshape(144, 1, -1)  \n",
    "X_test_Gris = X_test_Gris.reshape(36, 1, -1)  \n",
    "Y_train_Gris = Y_train_RGB.reshape(144, 1, -1)\n",
    "Y_test_Gris = Y_test_RGB.reshape(36, 1, -1)\n",
    "\n",
    "X_train_Bin = X_train_Bin.reshape(144, 1, -1)  \n",
    "X_test_Bin = X_test_Bin.reshape(36, 1, -1)\n",
    "Y_train_Bin = Y_train_RGB.reshape(144, 1, -1)\n",
    "Y_test_Bin = Y_test_RGB.reshape(36, 1, -1)  "
   ]
  },
  {
   "cell_type": "code",
   "execution_count": 48,
   "metadata": {},
   "outputs": [
    {
     "name": "stdout",
     "output_type": "stream",
     "text": [
      "Shape de X_train_RGB: (144, 1, 6144)\n",
      "Shape de X_test_RGB: (36, 1, 6144)\n",
      "Shape de X_train_Gris: (144, 1, 2048)\n",
      "Shape de X_test_Gris: (36, 1, 2048)\n",
      "Shape de X_train_Bin: (144, 1, 2048)\n",
      "Shape de X_test_Bin: (36, 1, 2048)\n"
     ]
    }
   ],
   "source": [
    "\n",
    "# Imprimir las formas de las variables\n",
    "print(\"Shape de X_train_RGB:\", X_train_RGB.shape)\n",
    "print(\"Shape de X_test_RGB:\", X_test_RGB.shape)\n",
    "\n",
    "print(\"Shape de X_train_Gris:\", X_train_Gris.shape)\n",
    "print(\"Shape de X_test_Gris:\", X_test_Gris.shape)\n",
    "\n",
    "print(\"Shape de X_train_Bin:\", X_train_Bin.shape)\n",
    "print(\"Shape de X_test_Bin:\", X_test_Bin.shape)"
   ]
  },
  {
   "cell_type": "markdown",
   "metadata": {},
   "source": [
    "### Generación de los pesos"
   ]
  },
  {
   "cell_type": "code",
   "execution_count": 49,
   "metadata": {},
   "outputs": [
    {
     "name": "stdout",
     "output_type": "stream",
     "text": [
      "[[-0.36408535 -1.64689298  0.67494063 -1.17816015 -0.03897263]\n",
      " [ 0.19089496 -0.22803095  1.96041259  1.77780398  0.1605149 ]\n",
      " [ 1.29669228  0.36547312 -0.18838196  1.14242503  0.50568878]\n",
      " ...\n",
      " [-0.60081065 -1.85421957  0.47260987  0.87021787  0.9537388 ]\n",
      " [-0.7076415  -0.57904394 -0.86238356 -0.07500776  0.5155304 ]\n",
      " [-0.82323706  0.48299597 -1.24088386 -0.18661263 -0.32736186]] \n",
      "\n",
      " [[-0.53366665 -1.41536252 -0.82814775 -0.61785241 -0.85474006  0.34366313\n",
      "  -0.27165594  0.53475671  2.04512627  0.74494314]\n",
      " [ 0.15320549 -0.33144205 -0.00686159 -1.59021344  0.02539204 -1.58595405\n",
      "   1.15332673  0.48017357 -0.90689242 -0.7658122 ]\n",
      " [ 2.54327812 -0.50243227 -0.10730843  0.83515552 -0.06639647  1.99919199\n",
      "   0.01789401 -0.51625262 -0.62921374  1.04956131]\n",
      " [-0.99268913 -1.39527054 -1.72063602 -0.26128079 -0.69887943 -0.83106416\n",
      "   1.68385722 -0.92743495 -0.4339866   0.51261276]\n",
      " [ 0.25704293  0.39864784 -0.16495587 -0.07329087 -1.25117079 -0.02902195\n",
      "  -0.04644755  1.16018583  0.22613698  0.27064007]]\n"
     ]
    }
   ],
   "source": [
    "w1_RGB = generate_wt(6144, 5)\n",
    "w2_RGB = generate_wt(5, 10)\n",
    "print(w1_RGB, \"\\n\\n\", w2_RGB)"
   ]
  },
  {
   "cell_type": "code",
   "execution_count": 50,
   "metadata": {},
   "outputs": [
    {
     "name": "stdout",
     "output_type": "stream",
     "text": [
      "[[ 1.55401633  1.61907725  0.90543657 -0.12403963 -0.61980306]\n",
      " [ 1.58936051 -1.41818389  2.11881334  0.29013737  0.63253322]\n",
      " [ 0.91726782 -0.76958995  1.01878323 -0.19133824  0.38239663]\n",
      " ...\n",
      " [ 1.2261136   1.56856113 -0.32251973  0.38867367 -0.67815545]\n",
      " [-2.05080663 -0.67178389  0.09240662 -0.78771332 -0.89586591]\n",
      " [ 1.39428008  0.62820114  0.60557031 -0.39155119  0.34437545]] \n",
      "\n",
      " [[ 0.40549533  0.35530991  0.88398577 -0.51530907  1.06375903  1.47614702\n",
      "  -0.55332524 -1.69153912  0.24756491  2.34287841]\n",
      " [-0.22861025 -0.02486047 -0.40551364  0.4575742   0.63999585 -1.1643034\n",
      "  -0.25062372 -0.00795306 -1.20770574 -1.95110753]\n",
      " [-0.98459745  2.2422391   0.85636219  1.41029189  0.77391385  0.74758614\n",
      "   1.20228754  0.73759265 -1.31402064 -0.00751529]\n",
      " [ 1.08973824  1.26095457  1.48488317  1.10517762 -0.49893767  0.90008829\n",
      "  -0.28685753 -0.04597006 -0.51157598  0.61873577]\n",
      " [ 0.35663884  0.11434502 -0.64558252  0.49388716  0.8469188  -1.0845332\n",
      "   0.81360113 -0.12206209 -0.70893557  0.68500437]]\n"
     ]
    }
   ],
   "source": [
    "w1_Gris = generate_wt(2048, 5)\n",
    "w2_Gris = generate_wt(5, 10)\n",
    "print(w1_Gris, \"\\n\\n\", w2_Gris)"
   ]
  },
  {
   "cell_type": "code",
   "execution_count": 51,
   "metadata": {},
   "outputs": [
    {
     "name": "stdout",
     "output_type": "stream",
     "text": [
      "[[-7.37672143e-01 -1.11119500e+00 -3.30448781e-01 -7.99487201e-01\n",
      "  -1.42118130e+00]\n",
      " [ 2.19302054e+00 -2.27480531e-01 -7.15142811e-01  2.22645497e+00\n",
      "   1.95248895e+00]\n",
      " [-1.47210216e+00  1.09488483e+00  2.63254819e+00  3.05593517e-01\n",
      "  -2.20249417e-01]\n",
      " ...\n",
      " [ 9.96374332e-01  2.35719738e-01 -3.35276190e-01 -1.18584200e+00\n",
      "   1.07607585e-01]\n",
      " [-8.91584133e-01 -1.29004617e+00  6.80747980e-01 -1.51226426e+00\n",
      "   6.03266396e-01]\n",
      " [ 6.10052367e-01 -8.91681615e-01 -2.04434877e-03 -9.94300265e-01\n",
      "  -9.60181838e-01]] \n",
      "\n",
      " [[-0.95893215  1.05998698  0.19676736 -0.51330315  0.63943621  0.69367116\n",
      "   1.8219479  -1.69411127  0.54699326  1.74765518]\n",
      " [-0.42914261  0.31581152 -0.09095153 -0.99602609  1.19876491 -0.40065641\n",
      "   0.17021785 -0.42099285  1.53239035  2.03745592]\n",
      " [-0.90830659  0.25524265 -0.9048707  -0.23005701 -0.1331457   0.62383127\n",
      "  -0.07439292  0.61630751 -2.21918305 -0.1709489 ]\n",
      " [-0.66009659 -0.28537553  0.72583112 -0.40096141  0.26749754 -0.90707296\n",
      "  -1.71785061 -0.98139939  0.81254618 -0.28232106]\n",
      " [-1.13283226  0.93322153  2.15092582  0.76954864 -0.823815    0.17204163\n",
      "   1.95796485 -0.96331862  0.81203499  1.30741057]]\n"
     ]
    }
   ],
   "source": [
    "w1_Bin = generate_wt(2048, 5)\n",
    "w2_Bin = generate_wt(5, 10)\n",
    "print(w1_Bin, \"\\n\\n\", w2_Bin)"
   ]
  },
  {
   "cell_type": "markdown",
   "metadata": {},
   "source": [
    "### Entrenamiento de las redes"
   ]
  },
  {
   "cell_type": "markdown",
   "metadata": {},
   "source": [
    "##### RBG"
   ]
  },
  {
   "cell_type": "code",
   "execution_count": 52,
   "metadata": {},
   "outputs": [
    {
     "name": "stdout",
     "output_type": "stream",
     "text": [
      "Epoch 1 ======== Loss: 0.9317 ======== Accuracy: 6.83%\n"
     ]
    },
    {
     "name": "stderr",
     "output_type": "stream",
     "text": [
      "C:\\Users\\abiab\\AppData\\Local\\Temp\\ipykernel_29296\\2640888872.py:6: RuntimeWarning: overflow encountered in exp\n",
      "  return 1 / (1 + np.exp(-x))\n"
     ]
    },
    {
     "name": "stdout",
     "output_type": "stream",
     "text": [
      "Epoch 2 ======== Loss: 0.7388 ======== Accuracy: 26.12%\n",
      "Epoch 3 ======== Loss: 0.6946 ======== Accuracy: 30.54%\n",
      "Epoch 4 ======== Loss: 0.6632 ======== Accuracy: 33.68%\n",
      "Epoch 5 ======== Loss: 0.6402 ======== Accuracy: 35.98%\n",
      "Epoch 6 ======== Loss: 0.6231 ======== Accuracy: 37.69%\n",
      "Epoch 7 ======== Loss: 0.6100 ======== Accuracy: 39.00%\n",
      "Epoch 8 ======== Loss: 0.5999 ======== Accuracy: 40.01%\n",
      "Epoch 9 ======== Loss: 0.5918 ======== Accuracy: 40.82%\n",
      "Epoch 10 ======== Loss: 0.5853 ======== Accuracy: 41.47%\n"
     ]
    }
   ],
   "source": [
    "acc_RGB, losss_RGB, w1_RGB, w2_RGB = train(X_train_RGB, Y_train_RGB, w1_RGB, w2_RGB, 0.1, 10)"
   ]
  },
  {
   "cell_type": "markdown",
   "metadata": {},
   "source": [
    "##### Escala de Grises"
   ]
  },
  {
   "cell_type": "code",
   "execution_count": 53,
   "metadata": {},
   "outputs": [
    {
     "name": "stdout",
     "output_type": "stream",
     "text": [
      "Epoch 1 ======== Loss: 1.4915 ======== Accuracy: -49.15%\n",
      "Epoch 2 ======== Loss: 0.9209 ======== Accuracy: 7.91%\n",
      "Epoch 3 ======== Loss: 0.9095 ======== Accuracy: 9.05%\n"
     ]
    },
    {
     "name": "stderr",
     "output_type": "stream",
     "text": [
      "C:\\Users\\abiab\\AppData\\Local\\Temp\\ipykernel_29296\\2640888872.py:6: RuntimeWarning: overflow encountered in exp\n",
      "  return 1 / (1 + np.exp(-x))\n"
     ]
    },
    {
     "name": "stdout",
     "output_type": "stream",
     "text": [
      "Epoch 4 ======== Loss: 0.9064 ======== Accuracy: 9.36%\n",
      "Epoch 5 ======== Loss: 0.9044 ======== Accuracy: 9.56%\n",
      "Epoch 6 ======== Loss: 0.9030 ======== Accuracy: 9.70%\n",
      "Epoch 7 ======== Loss: 0.9019 ======== Accuracy: 9.81%\n",
      "Epoch 8 ======== Loss: 0.9010 ======== Accuracy: 9.90%\n",
      "Epoch 9 ======== Loss: 0.9004 ======== Accuracy: 9.96%\n",
      "Epoch 10 ======== Loss: 0.8999 ======== Accuracy: 10.01%\n"
     ]
    }
   ],
   "source": [
    "acc_Gris, losss_Gris, w1_Gris, w2_Gris = train(X_train_Gris, Y_train_Gris, w1_Gris, w2_Gris, 0.1, 10)"
   ]
  },
  {
   "cell_type": "markdown",
   "metadata": {},
   "source": [
    "##### Binario"
   ]
  },
  {
   "cell_type": "code",
   "execution_count": 54,
   "metadata": {},
   "outputs": [
    {
     "name": "stdout",
     "output_type": "stream",
     "text": [
      "Epoch 1 ======== Loss: 1.0925 ======== Accuracy: -9.25%\n",
      "Epoch 2 ======== Loss: 0.9146 ======== Accuracy: 8.54%\n",
      "Epoch 3 ======== Loss: 0.9147 ======== Accuracy: 8.53%\n",
      "Epoch 4 ======== Loss: 0.9147 ======== Accuracy: 8.53%\n",
      "Epoch 5 ======== Loss: 0.9147 ======== Accuracy: 8.53%\n",
      "Epoch 6 ======== Loss: 0.9147 ======== Accuracy: 8.53%\n",
      "Epoch 7 ======== Loss: 0.9147 ======== Accuracy: 8.53%\n",
      "Epoch 8 ======== Loss: 0.9147 ======== Accuracy: 8.53%\n",
      "Epoch 9 ======== Loss: 0.9147 ======== Accuracy: 8.53%\n",
      "Epoch 10 ======== Loss: 0.9147 ======== Accuracy: 8.53%\n"
     ]
    }
   ],
   "source": [
    "acc_Bin, losss_Bin, w1_Bin, w2_Bin = train(X_train_Bin, Y_train_Bin, w1_Bin, w2_Bin, 0.1, 10)"
   ]
  },
  {
   "cell_type": "code",
   "execution_count": 55,
   "metadata": {},
   "outputs": [
    {
     "data": {
      "image/png": "[encoded data removed]",
      "text/plain": [
       "<Figure size 640x480 with 1 Axes>"
      ]
     },
     "metadata": {},
     "output_type": "display_data"
    },
    {
     "data": {
      "image/png": "[encoded data removed]",
      "text/plain": [
       "<Figure size 640x480 with 1 Axes>"
      ]
     },
     "metadata": {},
     "output_type": "display_data"
    }
   ],
   "source": [
    "plt.plot(acc_Bin)\n",
    "plt.ylabel('Accuracy')\n",
    "plt.xlabel(\"Epochs:\")\n",
    "plt.show()\n",
    "\n",
    "# plotting Loss\n",
    "plt.plot(losss_Bin)\n",
    "plt.ylabel('Loss')\n",
    "plt.xlabel(\"Epochs:\")\n",
    "plt.show()"
   ]
  },
  {
   "cell_type": "code",
   "execution_count": 56,
   "metadata": {},
   "outputs": [
    {
     "name": "stdout",
     "output_type": "stream",
     "text": [
      "Image is of letter 6.\n"
     ]
    },
    {
     "ename": "ValueError",
     "evalue": "cannot reshape array of size 2048 into shape (5,6)",
     "output_type": "error",
     "traceback": [
      "\u001b[1;31m---------------------------------------------------------------------------\u001b[0m",
      "\u001b[1;31mValueError\u001b[0m                                Traceback (most recent call last)",
      "Cell \u001b[1;32mIn[56], line 1\u001b[0m\n\u001b[1;32m----> 1\u001b[0m \u001b[43mpredict\u001b[49m\u001b[43m(\u001b[49m\u001b[43mX_test_Bin\u001b[49m\u001b[43m[\u001b[49m\u001b[38;5;241;43m10\u001b[39;49m\u001b[43m]\u001b[49m\u001b[43m,\u001b[49m\u001b[43m \u001b[49m\u001b[43mw1_Bin\u001b[49m\u001b[43m,\u001b[49m\u001b[43m \u001b[49m\u001b[43mw2_Bin\u001b[49m\u001b[43m)\u001b[49m\n\u001b[0;32m      2\u001b[0m X_test_Bin[\u001b[38;5;241m20\u001b[39m]\u001b[38;5;241m.\u001b[39mshape\n",
      "Cell \u001b[1;32mIn[46], line 73\u001b[0m, in \u001b[0;36mpredict\u001b[1;34m(x, w1, w2)\u001b[0m\n\u001b[0;32m     71\u001b[0m classes \u001b[38;5;241m=\u001b[39m [\u001b[38;5;124m\"\u001b[39m\u001b[38;5;124m0\u001b[39m\u001b[38;5;124m\"\u001b[39m, \u001b[38;5;124m\"\u001b[39m\u001b[38;5;124m1\u001b[39m\u001b[38;5;124m\"\u001b[39m, \u001b[38;5;124m\"\u001b[39m\u001b[38;5;124m2\u001b[39m\u001b[38;5;124m\"\u001b[39m, \u001b[38;5;124m\"\u001b[39m\u001b[38;5;124m3\u001b[39m\u001b[38;5;124m\"\u001b[39m, \u001b[38;5;124m\"\u001b[39m\u001b[38;5;124m4\u001b[39m\u001b[38;5;124m\"\u001b[39m, \u001b[38;5;124m\"\u001b[39m\u001b[38;5;124m5\u001b[39m\u001b[38;5;124m\"\u001b[39m, \u001b[38;5;124m\"\u001b[39m\u001b[38;5;124m6\u001b[39m\u001b[38;5;124m\"\u001b[39m, \u001b[38;5;124m\"\u001b[39m\u001b[38;5;124m7\u001b[39m\u001b[38;5;124m\"\u001b[39m, \u001b[38;5;124m\"\u001b[39m\u001b[38;5;124m8\u001b[39m\u001b[38;5;124m\"\u001b[39m, \u001b[38;5;124m\"\u001b[39m\u001b[38;5;124m9\u001b[39m\u001b[38;5;124m\"\u001b[39m]\n\u001b[0;32m     72\u001b[0m \u001b[38;5;28mprint\u001b[39m(\u001b[38;5;124mf\u001b[39m\u001b[38;5;124m\"\u001b[39m\u001b[38;5;124mImage is of letter \u001b[39m\u001b[38;5;132;01m{\u001b[39;00mclasses[k]\u001b[38;5;132;01m}\u001b[39;00m\u001b[38;5;124m.\u001b[39m\u001b[38;5;124m\"\u001b[39m)\n\u001b[1;32m---> 73\u001b[0m plt\u001b[38;5;241m.\u001b[39mimshow(\u001b[43mx\u001b[49m\u001b[38;5;241;43m.\u001b[39;49m\u001b[43mreshape\u001b[49m\u001b[43m(\u001b[49m\u001b[38;5;241;43m5\u001b[39;49m\u001b[43m,\u001b[49m\u001b[43m \u001b[49m\u001b[38;5;241;43m6\u001b[39;49m\u001b[43m)\u001b[49m, cmap\u001b[38;5;241m=\u001b[39m\u001b[38;5;124m'\u001b[39m\u001b[38;5;124mgray\u001b[39m\u001b[38;5;124m'\u001b[39m)\n\u001b[0;32m     74\u001b[0m plt\u001b[38;5;241m.\u001b[39mshow()\n",
      "\u001b[1;31mValueError\u001b[0m: cannot reshape array of size 2048 into shape (5,6)"
     ]
    }
   ],
   "source": [
    "predict(X_test_Bin[10], w1_Bin, w2_Bin)\n",
    "X_test_Bin[20].shape"
   ]
  },
  {
   "cell_type": "code",
   "execution_count": null,
   "metadata": {},
   "outputs": [
    {
     "data": {
      "image/png": "[encoded data removed]",
      "text/plain": [
       "<Figure size 640x480 with 1 Axes>"
      ]
     },
     "metadata": {},
     "output_type": "display_data"
    },
    {
     "data": {
      "image/png": "[encoded data removed]",
      "text/plain": [
       "<Figure size 640x480 with 1 Axes>"
      ]
     },
     "metadata": {},
     "output_type": "display_data"
    },
    {
     "data": {
      "image/png": "[encoded data removed]",
      "text/plain": [
       "<Figure size 640x480 with 1 Axes>"
      ]
     },
     "metadata": {},
     "output_type": "display_data"
    },
    {
     "data": {
      "image/png": "[encoded data removed]",
      "text/plain": [
       "<Figure size 640x480 with 1 Axes>"
      ]
     },
     "metadata": {},
     "output_type": "display_data"
    },
    {
     "data": {
      "image/png": "[encoded data removed]",
      "text/plain": [
       "<Figure size 640x480 with 1 Axes>"
      ]
     },
     "metadata": {},
     "output_type": "display_data"
    },
    {
     "data": {
      "image/png": "[encoded data removed]",
      "text/plain": [
       "<Figure size 640x480 with 1 Axes>"
      ]
     },
     "metadata": {},
     "output_type": "display_data"
    },
    {
     "data": {
      "image/png": "[encoded data removed]",
      "text/plain": [
       "<Figure size 640x480 with 1 Axes>"
      ]
     },
     "metadata": {},
     "output_type": "display_data"
    },
    {
     "data": {
      "image/png": "[encoded data removed]",
      "text/plain": [
       "<Figure size 640x480 with 1 Axes>"
      ]
     },
     "metadata": {},
     "output_type": "display_data"
    },
    {
     "data": {
      "image/png": "[encoded data removed]",
      "text/plain": [
       "<Figure size 640x480 with 1 Axes>"
      ]
     },
     "metadata": {},
     "output_type": "display_data"
    },
    {
     "data": {
      "image/png": "[encoded data removed]",
      "text/plain": [
       "<Figure size 640x480 with 1 Axes>"
      ]
     },
     "metadata": {},
     "output_type": "display_data"
    },
    {
     "data": {
      "image/png": "[encoded data removed]",
      "text/plain": [
       "<Figure size 640x480 with 1 Axes>"
      ]
     },
     "metadata": {},
     "output_type": "display_data"
    },
    {
     "data": {
      "image/png": "[encoded data removed]",
      "text/plain": [
       "<Figure size 640x480 with 1 Axes>"
      ]
     },
     "metadata": {},
     "output_type": "display_data"
    },
    {
     "data": {
      "image/png": "[encoded data removed]",
      "text/plain": [
       "<Figure size 640x480 with 1 Axes>"
      ]
     },
     "metadata": {},
     "output_type": "display_data"
    },
    {
     "data": {
      "image/png": "[encoded data removed]",
      "text/plain": [
       "<Figure size 640x480 with 1 Axes>"
      ]
     },
     "metadata": {},
     "output_type": "display_data"
    },
    {
     "data": {
      "image/png": "[encoded data removed]",
      "text/plain": [
       "<Figure size 640x480 with 1 Axes>"
      ]
     },
     "metadata": {},
     "output_type": "display_data"
    },
    {
     "data": {
      "image/png": "[encoded data removed]",
      "text/plain": [
       "<Figure size 640x480 with 1 Axes>"
      ]
     },
     "metadata": {},
     "output_type": "display_data"
    },
    {
     "data": {
      "image/png": "[encoded data removed]",
      "text/plain": [
       "<Figure size 640x480 with 1 Axes>"
      ]
     },
     "metadata": {},
     "output_type": "display_data"
    },
    {
     "data": {
      "image/png": "[encoded data removed]",
      "text/plain": [
       "<Figure size 640x480 with 1 Axes>"
      ]
     },
     "metadata": {},
     "output_type": "display_data"
    }
   ],
   "source": [
    "for i,j in zip(conjuntoBin, y):\n",
    "        \n",
    "    if j == 7:\n",
    "        plt.figure()  # Crear una nueva figura\n",
    "        plt.imshow(i.reshape(64, 32), cmap='gray')  # Mostrar la imagen\n",
    "        plt.axis('off')\n",
    "\n",
    "plt.show()"
   ]
  }
 ],
 "metadata": {
  "kernelspec": {
   "display_name": "Python 3",
   "language": "python",
   "name": "python3"
  },
  "language_info": {
   "codemirror_mode": {
    "name": "ipython",
    "version": 3
   },
   "file_extension": ".py",
   "mimetype": "text/x-python",
   "name": "python",
   "nbconvert_exporter": "python",
   "pygments_lexer": "ipython3",
   "version": "3.12.3"
  }
 },
 "nbformat": 4,
 "nbformat_minor": 2
}
