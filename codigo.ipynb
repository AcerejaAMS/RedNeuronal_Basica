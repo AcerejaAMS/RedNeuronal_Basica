{
 "cells": [
  {
   "cell_type": "code",
   "execution_count": 41,
   "metadata": {},
   "outputs": [],
   "source": [
    "from sklearn.model_selection import train_test_split\n",
    "import matplotlib.pyplot as plt\n",
    "import numpy as np\n",
    "import cv2"
   ]
  },
  {
   "cell_type": "markdown",
   "metadata": {},
   "source": [
    "### Carga de Datos"
   ]
  },
  {
   "cell_type": "markdown",
   "metadata": {},
   "source": [
    "Nota: A partir del c13 al c18 son duplicados"
   ]
  },
  {
   "cell_type": "code",
   "execution_count": 42,
   "metadata": {},
   "outputs": [
    {
     "name": "stdout",
     "output_type": "stream",
     "text": [
      "Tamaño de conjuntoImgs: (180, 64, 32, 3)\n",
      "Tamaño de conjuntoGris: (180, 64, 32)\n",
      "Tamaño de conjuntoBin: (180, 64, 32)\n",
      "Tamaño de labels_y: (180,)\n"
     ]
    }
   ],
   "source": [
    "\n",
    "conjuntoImgs = []\n",
    "conjuntoGris = []\n",
    "conjuntoBin = []\n",
    "labels_y = []\n",
    "\n",
    "for i in range(1, 19):\n",
    "    for j in range(10):\n",
    "        ruta = f'Prueba/C{i}/N{j}.JPG'\n",
    "        temp = cv2.imread(ruta)\n",
    "\n",
    "        temp = cv2.resize(temp, (32, 64))\n",
    "        conjuntoImgs.append(temp)\n",
    "        \n",
    "        temp_gris = cv2.cvtColor(temp, cv2.COLOR_BGR2GRAY)\n",
    "        conjuntoGris.append(temp_gris)\n",
    "        \n",
    "        _, temp_bin = cv2.threshold(temp_gris, 127, 1, cv2.THRESH_BINARY)\n",
    "        conjuntoBin.append(temp_bin)\n",
    "    \n",
    "        labels_y.append(j)\n",
    "\n",
    "# Convertir las listas en arrays de numpy\n",
    "conjuntoImgs = np.array(conjuntoImgs)\n",
    "conjuntoGris = np.array(conjuntoGris)\n",
    "conjuntoBin = np.array(conjuntoBin)\n",
    "labels_y = np.array(labels_y)\n",
    "# conjuntoImgs = np.array(conjuntoImgs).reshape(1,1105920)\n",
    "# conjuntoGris = np.array(conjuntoGris).reshape(1,368640)\n",
    "# conjuntoBin = np.array(conjuntoBin).reshape(1,368640)\n",
    "\n",
    "\n",
    "# Imprimir las formas de los arrays para confirmar\n",
    "print(\"Tamaño de conjuntoImgs:\", conjuntoImgs.shape)\n",
    "print(\"Tamaño de conjuntoGris:\", conjuntoGris.shape)\n",
    "print(\"Tamaño de conjuntoBin:\", conjuntoBin.shape)\n",
    "print(\"Tamaño de labels_y:\", labels_y.shape)\n",
    "\n"
   ]
  },
  {
   "cell_type": "markdown",
   "metadata": {},
   "source": [
    "### Declaración de funciones"
   ]
  },
  {
   "cell_type": "code",
   "execution_count": 43,
   "metadata": {},
   "outputs": [],
   "source": [
    "# Definiendo funcion de activacion\n",
    "\n",
    "def sigmoid(x):\n",
    "\treturn(1/(1 + np.exp(-x)))\n",
    "\n",
    "def tanh(x):\n",
    "    return np.tanh(x)\n",
    "\n",
    "# Aplicando el Feed forward de la red neuronal\n",
    "# 1 Input layer(1, 30)\n",
    "# 1 hidden layer (1, 5)\n",
    "# 1 output layer(3, 3)\n",
    "\n",
    "def f_forward(x, w1, w2):\n",
    "\t# Oculta\n",
    "\tz1 = x.dot(w1)# Entrada de la capa 1 (oculta)\n",
    "\ta1 = tanh(z1)# Salia para la entrada de la capa 2\n",
    "\t\n",
    "\t# Capa de salida\n",
    "\tz2 = a1.dot(w2)# entrada de la capa 2 o de salida\n",
    "\ta2 = tanh(z2)# salida de la capa\n",
    "\treturn(a2)\n",
    "\n",
    "# Generacion aleatoria de pesos\n",
    "def generate_wt(x, y):\n",
    "\tl =[]\n",
    "\tfor i in range(x * y):\n",
    "\t\tl.append(np.random.randn())\n",
    "\treturn(np.array(l).reshape(x, y))\n",
    "\t\n",
    "# cálculo de la perdida con mean square error(MSE)\n",
    "def loss(out, y):\n",
    "\ts =(np.square(out-y))\n",
    "\ts = np.sum(s)/len(y)\n",
    "\treturn(s)\n",
    "\n",
    "# Back propagation of error \n",
    "def back_prop(x, y, w1, w2, alpha):\n",
    "\t\n",
    "\t# capa oculta\n",
    "\tz1 = x.dot(w1)# entrada de la capa 1\n",
    "\ta1 = tanh(z1)# entrada de la capa 2 (salida)\n",
    "\t\n",
    "\t# capa de salida\n",
    "\tz2 = a1.dot(w2)# entrada de la capa de salida\n",
    "\ta2 = tanh(z2)# salida de la capa de salida\n",
    "\t# error en la capa de salida\n",
    "\td2 =(a2-y)\n",
    "\td1 = np.multiply((w2.dot((d2.transpose()))).transpose(), \n",
    "\t\t\t\t\t\t\t\t(np.multiply(a1, 1-a1)))\n",
    "\n",
    "\t# Gradiente para w1 y w2\n",
    "\tw1_adj = x.transpose().dot(d1)\n",
    "\tw2_adj = a1.transpose().dot(d2)\n",
    "\t\n",
    "\t# Actualizando parámetros\n",
    "\tw1 = w1-(alpha*(w1_adj))\n",
    "\tw2 = w2-(alpha*(w2_adj))\n",
    "\t\n",
    "\treturn(w1, w2)\n",
    "\n",
    "def train(x, y, w1, w2, alpha = 0.01, epoch = 10):\n",
    "\tacc =[]\n",
    "\tlosss =[]\n",
    "\tfor j in range(epoch):\n",
    "\t\tl =[]\n",
    "\t\tfor i in range(len(x)):\n",
    "\t\t\tout = f_forward(x[i], w1, w2)\n",
    "\t\t\tl.append((loss(out, y[i])))\n",
    "\t\t\tw1, w2 = back_prop(x[i], y[i], w1, w2, alpha)\n",
    "\t\tprint(\"epochs:\", j + 1, \"======== acc:\", (1-(sum(l)/len(x)))*100) \n",
    "\t\tacc.append((1-(sum(l)/len(x)))*100)\n",
    "\t\tlosss.append(sum(l)/len(x))\n",
    "\treturn(acc, losss, w1, w2)\n",
    "\n",
    "def predict(x, w1, w2):\n",
    "\tOut = f_forward(x, w1, w2)\n",
    "\tmaxm = 0\n",
    "\tk = 0\n",
    "\tfor i in range(len(Out[0])):\n",
    "\t\tif(maxm<Out[0][i]):\n",
    "\t\t\tmaxm = Out[0][i]\n",
    "\t\t\tk = i\n",
    "\t\n",
    "\tprint(\"El numero en la imagen es el:\")\n",
    "\tmatch(k):\n",
    "\t\tcase 0:\n",
    "\t\t\tprint(\"0\")\n",
    "\t\tcase 1:\n",
    "\t\t\tprint(\"1\")\n",
    "\t\tcase 2:\n",
    "\t\t\tprint(\"2\")\n",
    "\t\tcase 3:\n",
    "\t\t\tprint(\"3\")\n",
    "\t\tcase 4:\n",
    "\t\t\tprint(\"4\")\n",
    "\t\tcase 5:\n",
    "\t\t\tprint(\"5\")\n",
    "\t\tcase 6:\n",
    "\t\t\tprint(\"6\")\n",
    "\t\tcase 7:\n",
    "\t\t\tprint(\"7\")\n",
    "\t\tcase 8:\n",
    "\t\t\tprint(\"8\")\n",
    "\t\tcase 9:\n",
    "\t\t\tprint(\"9\")\n",
    "\t\t\t\n",
    "\tplt.imshow(x.reshape(64,32))\n",
    "\tplt.show() "
   ]
  },
  {
   "cell_type": "markdown",
   "metadata": {},
   "source": [
    "### Partición de los datos"
   ]
  },
  {
   "cell_type": "code",
   "execution_count": 44,
   "metadata": {},
   "outputs": [],
   "source": [
    "X_train_RGB, X_test_RGB, Y_train_RGB, Y_test_RGB = train_test_split(conjuntoImgs, labels_y, test_size = 0.2)\n",
    "X_train_Gris, X_test_Gris, Y_train_Gris, Y_test_Gris = train_test_split(conjuntoGris, labels_y, test_size = 0.2)\n",
    "X_train_Bin, X_test_Bin, Y_train_Bin, Y_test_Bin = train_test_split(conjuntoBin, labels_y, test_size = 0.2)\n",
    "\n",
    "X_train_RGB = X_train_RGB.reshape(144, 1, -1)  \n",
    "X_test_RGB = X_test_RGB.reshape(36, 1, -1)  \n",
    "Y_train_RGB = Y_train_RGB.reshape(144, 1, -1)\n",
    "Y_test_RGB = Y_test_RGB.reshape(36, 1, -1)\n",
    "\n",
    "X_train_Gris = X_train_Gris.reshape(144, 1, -1)  \n",
    "X_test_Gris = X_test_Gris.reshape(36, 1, -1)  \n",
    "Y_train_Gris = Y_train_RGB.reshape(144, 1, -1)\n",
    "Y_test_Gris = Y_test_RGB.reshape(36, 1, -1)\n",
    "\n",
    "X_train_Bin = X_train_Bin.reshape(144, 1, -1)  \n",
    "X_test_Bin = X_test_Bin.reshape(36, 1, -1)\n",
    "Y_train_Bin = Y_train_RGB.reshape(144, 1, -1)\n",
    "Y_test_Bin = Y_test_RGB.reshape(36, 1, -1)  "
   ]
  },
  {
   "cell_type": "code",
   "execution_count": 45,
   "metadata": {},
   "outputs": [
    {
     "name": "stdout",
     "output_type": "stream",
     "text": [
      "Shape de X_train_RGB: (144, 1, 6144)\n",
      "Shape de X_test_RGB: (36, 1, 6144)\n",
      "Shape de X_train_Gris: (144, 1, 2048)\n",
      "Shape de X_test_Gris: (36, 1, 2048)\n",
      "Shape de X_train_Bin: (144, 1, 2048)\n",
      "Shape de X_test_Bin: (36, 1, 2048)\n"
     ]
    }
   ],
   "source": [
    "\n",
    "# Imprimir las formas de las variables\n",
    "print(\"Shape de X_train_RGB:\", X_train_RGB.shape)\n",
    "print(\"Shape de X_test_RGB:\", X_test_RGB.shape)\n",
    "\n",
    "print(\"Shape de X_train_Gris:\", X_train_Gris.shape)\n",
    "print(\"Shape de X_test_Gris:\", X_test_Gris.shape)\n",
    "\n",
    "print(\"Shape de X_train_Bin:\", X_train_Bin.shape)\n",
    "print(\"Shape de X_test_Bin:\", X_test_Bin.shape)"
   ]
  },
  {
   "cell_type": "markdown",
   "metadata": {},
   "source": [
    "### Generación de los pesos"
   ]
  },
  {
   "cell_type": "code",
   "execution_count": 46,
   "metadata": {},
   "outputs": [
    {
     "name": "stdout",
     "output_type": "stream",
     "text": [
      "[[ 1.28821996e+00  6.02379359e-01 -1.22401186e+00  3.95003386e-01\n",
      "  -9.88947346e-01]\n",
      " [-9.79730209e-01 -1.14420873e-01  3.46614889e-01 -3.68765052e-01\n",
      "  -9.20156581e-02]\n",
      " [-1.87979976e+00 -1.06587829e-03 -7.27302836e-01 -1.72611198e-01\n",
      "  -1.45792489e+00]\n",
      " ...\n",
      " [-2.38028638e+00 -5.51255752e-01  6.02846388e-01 -1.38384613e-01\n",
      "  -5.63954215e-01]\n",
      " [-1.59023954e+00  1.41209061e-02 -5.59190374e-01  1.83335424e+00\n",
      "   8.44751032e-02]\n",
      " [ 8.07797449e-01 -2.77689977e-01 -5.12205275e-01  2.07479492e+00\n",
      "  -1.06631939e+00]] \n",
      "\n",
      " [[ 7.16090529e-01 -1.46377190e+00  1.56088722e+00  1.38132178e+00\n",
      "  -1.54317591e-01  2.87378136e-02 -9.16021542e-01 -7.89298431e-01\n",
      "   4.75851051e-01 -8.40943101e-01]\n",
      " [-1.71828614e-01 -2.76027447e-01  8.22771459e-02  6.60201660e-02\n",
      "  -2.20190287e-01  2.27767153e-01 -8.36145902e-01 -5.82726970e-01\n",
      "  -7.55944710e-01 -5.26899582e-01]\n",
      " [ 3.78271775e-01 -1.03015236e+00  6.30064254e-01  2.00698739e-01\n",
      "  -1.39762340e+00  1.89788779e+00  1.01130861e+00 -1.41474295e+00\n",
      "  -1.10579159e+00 -5.59363709e-01]\n",
      " [ 2.81431703e-02  2.09938092e+00 -6.53230595e-02  1.57231910e+00\n",
      "  -9.24628870e-01  7.77051296e-01  1.49342220e+00 -1.55288319e+00\n",
      "   8.43928536e-01  2.55342071e-01]\n",
      " [-1.79659761e+00  7.47011451e-01 -1.46949918e-01  1.12963209e+00\n",
      "   8.76473699e-01 -9.00713369e-01 -1.10037020e+00  1.14660505e+00\n",
      "  -1.09133202e-03 -1.68728335e+00]]\n"
     ]
    }
   ],
   "source": [
    "w1_RGB = generate_wt(6144, 5)\n",
    "w2_RGB = generate_wt(5, 10)\n",
    "print(w1_RGB, \"\\n\\n\", w2_RGB)"
   ]
  },
  {
   "cell_type": "code",
   "execution_count": 47,
   "metadata": {},
   "outputs": [
    {
     "name": "stdout",
     "output_type": "stream",
     "text": [
      "[[-0.095258    1.33394165  0.78435095 -0.85835507 -1.27899596]\n",
      " [ 0.41619629  0.41304235 -0.66975816 -2.21724493  0.04260219]\n",
      " [ 0.15462683  0.99723845 -0.42580602 -1.51047005 -0.50489871]\n",
      " ...\n",
      " [-0.38807479  0.18571593 -1.0865371  -0.72271531 -0.75822952]\n",
      " [-0.91951487  0.80964096 -0.69978892 -0.24146219 -0.07621763]\n",
      " [ 1.57845031 -0.09351548 -0.24811021 -1.27400736 -0.04397004]] \n",
      "\n",
      " [[-1.05567515 -0.8637313  -2.30546141  0.74685966  0.15268827  0.73853367\n",
      "   0.07813531 -1.07606497 -2.99380248  1.2333139 ]\n",
      " [-0.35156469  0.33228914 -2.22189937  0.22608452 -0.3525642  -0.80431248\n",
      "  -0.78978162  1.03864188  0.90670987  0.81868951]\n",
      " [-0.62261589  0.58733876  1.95031835  0.20943022 -0.32302317  0.53097365\n",
      "  -0.32819597 -1.50095253 -0.15643665 -1.10817141]\n",
      " [-0.96774878 -0.97965627  1.0106812  -0.49655764  1.27567015  2.36333758\n",
      "   0.6854115   0.02610188  2.05677904  0.92568115]\n",
      " [-0.73979142 -0.49362257 -0.72184881  0.83875944 -1.8924965   0.30443156\n",
      "  -0.18661552 -1.85471986 -0.7350714   1.15462984]]\n"
     ]
    }
   ],
   "source": [
    "w1_Gris = generate_wt(2048, 5)\n",
    "w2_Gris = generate_wt(5, 10)\n",
    "print(w1_Gris, \"\\n\\n\", w2_Gris)"
   ]
  },
  {
   "cell_type": "code",
   "execution_count": 48,
   "metadata": {},
   "outputs": [
    {
     "name": "stdout",
     "output_type": "stream",
     "text": [
      "[[-0.99228715  0.50575259  0.33675851  0.20370142  1.17006262]\n",
      " [ 0.26783997 -0.84295483  1.00967679 -1.0148231   0.05050207]\n",
      " [ 0.65186596 -1.9821743   0.64337242  0.81396107 -1.40806196]\n",
      " ...\n",
      " [-2.2299581   1.0530965  -0.89929484  0.78220283 -0.18692733]\n",
      " [-1.24390041 -0.06082494 -0.74834187 -1.54980958 -0.49295002]\n",
      " [-0.81130678  0.63868385 -0.49723604 -1.2353044   1.29539176]] \n",
      "\n",
      " [[ 0.16335845 -0.06273362  0.05495055  1.15260977 -0.15521148 -0.96762785\n",
      "  -0.81805169 -1.1077967   0.57592552 -0.79477269]\n",
      " [-1.59930661 -0.20588148 -0.51878225 -1.19363077  1.53344895  0.3283124\n",
      "  -0.96865961  0.09900907  0.14138525 -0.6796004 ]\n",
      " [-0.01147818  0.09466128 -0.12745799 -0.12108658  0.39326488 -0.43554472\n",
      "  -0.34068698  1.08077914  0.9542351  -0.65939788]\n",
      " [ 0.60196449  0.20096074 -1.06715114 -0.1435419   0.08729843 -1.41884619\n",
      "   1.6379875  -0.79025527 -0.68723324  1.11554242]\n",
      " [-0.17023998  0.86735323 -0.05170582  0.99397529 -0.52023179  0.88947961\n",
      "   0.02269472 -0.83736468 -0.81462918  0.35389008]]\n"
     ]
    }
   ],
   "source": [
    "w1_Bin = generate_wt(2048, 5)\n",
    "w2_Bin = generate_wt(5, 10)\n",
    "print(w1_Bin, \"\\n\\n\", w2_Bin)"
   ]
  },
  {
   "cell_type": "markdown",
   "metadata": {},
   "source": [
    "### Entrenamiento de las redes"
   ]
  },
  {
   "cell_type": "markdown",
   "metadata": {},
   "source": [
    "##### RBG"
   ]
  },
  {
   "cell_type": "code",
   "execution_count": 49,
   "metadata": {},
   "outputs": [
    {
     "name": "stdout",
     "output_type": "stream",
     "text": [
      "epochs: 1 ======== acc: -21087.934098058544\n",
      "epochs: 2 ======== acc: -20698.611111111113\n",
      "epochs: 3 ======== acc: -20698.611111111113\n",
      "epochs: 4 ======== acc: -20698.611111111113\n",
      "epochs: 5 ======== acc: -20698.611111111113\n",
      "epochs: 6 ======== acc: -20698.611111111113\n",
      "epochs: 7 ======== acc: -20698.611111111113\n",
      "epochs: 8 ======== acc: -20698.611111111113\n",
      "epochs: 9 ======== acc: -20698.611111111113\n",
      "epochs: 10 ======== acc: -20698.611111111113\n"
     ]
    }
   ],
   "source": [
    "acc_RGB, losss_RGB, w1_RGB, w2_RGB = train(X_train_RGB, Y_train_RGB, w1_RGB, w2_RGB, 0.1, 10)"
   ]
  },
  {
   "cell_type": "markdown",
   "metadata": {},
   "source": [
    "##### Escala de Grises"
   ]
  },
  {
   "cell_type": "code",
   "execution_count": 50,
   "metadata": {},
   "outputs": [
    {
     "name": "stdout",
     "output_type": "stream",
     "text": [
      "epochs: 1 ======== acc: -21042.7188858751\n",
      "epochs: 2 ======== acc: -20698.611111111113\n",
      "epochs: 3 ======== acc: -20698.611111111113\n",
      "epochs: 4 ======== acc: -20698.611111111113\n",
      "epochs: 5 ======== acc: -20698.611111111113\n",
      "epochs: 6 ======== acc: -20698.611111111113\n",
      "epochs: 7 ======== acc: -20698.611111111113\n",
      "epochs: 8 ======== acc: -20698.611111111113\n",
      "epochs: 9 ======== acc: -20698.611111111113\n",
      "epochs: 10 ======== acc: -20698.611111111113\n"
     ]
    }
   ],
   "source": [
    "acc_Gris, losss_Gris, w1_Gris, w2_Gris = train(X_train_Gris, Y_train_Gris, w1_Gris, w2_Gris, 0.1, 10)"
   ]
  },
  {
   "cell_type": "markdown",
   "metadata": {},
   "source": [
    "##### Binario"
   ]
  },
  {
   "cell_type": "code",
   "execution_count": 51,
   "metadata": {},
   "outputs": [
    {
     "name": "stdout",
     "output_type": "stream",
     "text": [
      "epochs: 1 ======== acc: -21098.810349653606\n",
      "epochs: 2 ======== acc: -20698.611111111113\n",
      "epochs: 3 ======== acc: -20698.611111111113\n",
      "epochs: 4 ======== acc: -20698.611111111113\n",
      "epochs: 5 ======== acc: -20698.611111111113\n",
      "epochs: 6 ======== acc: -20698.611111111113\n",
      "epochs: 7 ======== acc: -20698.611111111113\n",
      "epochs: 8 ======== acc: -20698.611111111113\n",
      "epochs: 9 ======== acc: -20698.611111111113\n",
      "epochs: 10 ======== acc: -20698.611111111113\n"
     ]
    }
   ],
   "source": [
    "acc_Bin, losss_Bin, w1_Bin, w2_Bin = train(X_train_Bin, Y_train_Bin, w1_Bin, w2_Bin, 0.1, 10)"
   ]
  },
  {
   "cell_type": "code",
   "execution_count": 52,
   "metadata": {},
   "outputs": [
    {
     "data": {
      "image/png": "[encoded data removed]",
      "text/plain": [
       "<Figure size 640x480 with 1 Axes>"
      ]
     },
     "metadata": {},
     "output_type": "display_data"
    },
    {
     "data": {
      "image/png": "[encoded data removed]",
      "text/plain": [
       "<Figure size 640x480 with 1 Axes>"
      ]
     },
     "metadata": {},
     "output_type": "display_data"
    }
   ],
   "source": [
    "plt.plot(acc_Bin)\n",
    "plt.ylabel('Accuracy')\n",
    "plt.xlabel(\"Epochs:\")\n",
    "plt.show()\n",
    "\n",
    "# plotting Loss\n",
    "plt.plot(losss_Bin)\n",
    "plt.ylabel('Loss')\n",
    "plt.xlabel(\"Epochs:\")\n",
    "plt.show()"
   ]
  },
  {
   "cell_type": "code",
   "execution_count": 57,
   "metadata": {},
   "outputs": [
    {
     "name": "stdout",
     "output_type": "stream",
     "text": [
      "El numero en la imagen es el:\n",
      "0\n"
     ]
    },
    {
     "data": {
      "image/png": "[encoded data removed]",
      "text/plain": [
       "<Figure size 640x480 with 1 Axes>"
      ]
     },
     "metadata": {},
     "output_type": "display_data"
    }
   ],
   "source": [
    "predict(X_test_Bin[30], w1_Gris, w2_Gris)"
   ]
  }
 ],
 "metadata": {
  "kernelspec": {
   "display_name": "Python 3",
   "language": "python",
   "name": "python3"
  },
  "language_info": {
   "codemirror_mode": {
    "name": "ipython",
    "version": 3
   },
   "file_extension": ".py",
   "mimetype": "text/x-python",
   "name": "python",
   "nbconvert_exporter": "python",
   "pygments_lexer": "ipython3",
   "version": "3.12.3"
  }
 },
 "nbformat": 4,
 "nbformat_minor": 2
}
